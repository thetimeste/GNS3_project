{
 "cells": [
  {
   "cell_type": "code",
   "execution_count": 9,
   "metadata": {},
   "outputs": [],
   "source": [
    "import sys\n",
    "sys.path.append('/home/ste/Documenti/SDN_Project/GNS3_project/src')\n",
    "import gns3util"
   ]
  },
  {
   "cell_type": "code",
   "execution_count": 10,
   "metadata": {},
   "outputs": [],
   "source": [
    "import json\n",
    "from gns3util import Server, check_server_version, create_docker_template, environment_dict_to_string, get_all_templates, read_local_gns3_config,create_docker_template_router,create_docker_template_switch\n",
    "import requests\n",
    "\n",
    "indirizzo_ip = \"0.0.0.0\"\n",
    "porta = 3080\n",
    "utente = \"admin\"\n",
    "password = \"gns3\"\n",
    "\n",
    "# Crea l'oggetto Server\n",
    "server = Server(addr=indirizzo_ip, port=porta,auth=(utente, password),user=utente, password=password)"
   ]
  },
  {
   "cell_type": "code",
   "execution_count": 12,
   "metadata": {},
   "outputs": [
    {
     "data": {
      "text/plain": [
       "{'adapters': 1,\n",
       " 'builtin': False,\n",
       " 'category': 'guest',\n",
       " 'compute_id': 'local',\n",
       " 'console_auto_start': False,\n",
       " 'console_http_path': '/',\n",
       " 'console_http_port': 80,\n",
       " 'console_resolution': '1024x768',\n",
       " 'console_type': 'telnet',\n",
       " 'custom_adapters': [],\n",
       " 'default_name_format': '{name}-{0}',\n",
       " 'environment': ' ',\n",
       " 'extra_hosts': '',\n",
       " 'extra_volumes': [],\n",
       " 'image': 'iot-device-n6-mt',\n",
       " 'name': 'matgo01-iot-device-n6-new2',\n",
       " 'start_command': '',\n",
       " 'symbol': ':/symbols/docker_guest.svg',\n",
       " 'template_id': '92d30185-d449-4cd7-911d-5f2daf60f91d',\n",
       " 'template_type': 'docker',\n",
       " 'usage': ''}"
      ]
     },
     "execution_count": 12,
     "metadata": {},
     "output_type": "execute_result"
    }
   ],
   "source": [
    "create_docker_template(server,\"matgo01-iot-device-n6-new2\",\"iot-device-n6-mt\",' ')"
   ]
  },
  {
   "cell_type": "code",
   "execution_count": null,
   "metadata": {},
   "outputs": [],
   "source": []
  }
 ],
 "metadata": {
  "kernelspec": {
   "display_name": ".venv",
   "language": "python",
   "name": "python3"
  },
  "language_info": {
   "codemirror_mode": {
    "name": "ipython",
    "version": 3
   },
   "file_extension": ".py",
   "mimetype": "text/x-python",
   "name": "python",
   "nbconvert_exporter": "python",
   "pygments_lexer": "ipython3",
   "version": "3.10.12"
  }
 },
 "nbformat": 4,
 "nbformat_minor": 2
}
